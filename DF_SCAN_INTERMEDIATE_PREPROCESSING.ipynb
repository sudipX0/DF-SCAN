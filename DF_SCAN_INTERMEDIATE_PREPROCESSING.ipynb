{
  "nbformat": 4,
  "nbformat_minor": 0,
  "metadata": {
    "colab": {
      "provenance": [],
      "gpuType": "T4",
      "mount_file_id": "1PR-MFC8UJ3QTL5tSoku2kydnAct0Y5-R",
      "authorship_tag": "ABX9TyPXEa8gjbJABXUyWTDIayMI",
      "include_colab_link": true
    },
    "kernelspec": {
      "name": "python3",
      "display_name": "Python 3"
    },
    "language_info": {
      "name": "python"
    },
    "accelerator": "GPU"
  },
  "cells": [
    {
      "cell_type": "markdown",
      "metadata": {
        "id": "view-in-github",
        "colab_type": "text"
      },
      "source": [
        "<a href=\"https://colab.research.google.com/github/sudipX0/DF-SCAN/blob/main/DF_SCAN_INTERMEDIATE_PREPROCESSING.ipynb\" target=\"_parent\"><img src=\"https://colab.research.google.com/assets/colab-badge.svg\" alt=\"Open In Colab\"/></a>"
      ]
    },
    {
      "cell_type": "code",
      "source": [
        "!mkdir -p /content/DF-SCAN"
      ],
      "metadata": {
        "id": "DuVgL7Rl50am"
      },
      "execution_count": null,
      "outputs": []
    },
    {
      "cell_type": "code",
      "source": [
        "!cp -r /content/drive/MyDrive/DF-SCAN/scripts /content/DF-SCAN/scripts"
      ],
      "metadata": {
        "id": "FbIUgcNryIym"
      },
      "execution_count": null,
      "outputs": []
    },
    {
      "cell_type": "code",
      "source": [
        "!cp -r /content/drive/MyDrive/DF-SCAN/sample-data /content/DF-SCAN/sample-data/"
      ],
      "metadata": {
        "id": "ouvGFcvT2Wfg"
      },
      "execution_count": null,
      "outputs": []
    },
    {
      "cell_type": "code",
      "source": [
        "FRAMES_ROOT = \"/content/DF-SCAN/sample-data/intermediate/frames\"\n",
        "FACES_ROOT = \"/content/DF-SCAN/sample-data/intermediate/faces\"\n",
        "FINAL_DATASET = \"/content/DF-SCAN/sample-data/processed\"\n",
        "SCRIPTS_DIR = \"/content/DF-SCAN/scripts\""
      ],
      "metadata": {
        "id": "tdtEAZYLyg0N"
      },
      "execution_count": null,
      "outputs": []
    },
    {
      "cell_type": "markdown",
      "source": [
        "# **Preprocessing Pipeline**"
      ],
      "metadata": {
        "id": "gJKTQyzHD-23"
      }
    },
    {
      "cell_type": "markdown",
      "source": [
        "## **Frame Extraction**"
      ],
      "metadata": {
        "id": "3qd-Y6AfEHNl"
      }
    },
    {
      "cell_type": "code",
      "source": [
        "!python {SCRIPTS_DIR}/extract_frames.py \\\n",
        "  --input_dir /content/DF-SCAN/sample-data \\\n",
        "  --output_dir {FRAMES_ROOT} \\\n",
        "  --fps 5\n"
      ],
      "metadata": {
        "colab": {
          "base_uri": "https://localhost:8080/"
        },
        "id": "6oue7j5x39pW",
        "outputId": "608c6fa7-c573-4bc7-8f6f-d8e3d39d6af2"
      },
      "execution_count": null,
      "outputs": [
        {
          "output_type": "stream",
          "name": "stdout",
          "text": [
            "FOUND 700 VIDEOS IN /content/DF-SCAN/sample-data\n",
            "USING 1 CPU CORES FOR PARALLEL EXTRACTION\n",
            "\n",
            "EXTRACTING FRAMES: 100% 700/700 [33:13<00:00,  2.85s/it]\n",
            "\n",
            "FRAME EXTRACTION COMPLETED.\n"
          ]
        }
      ]
    },
    {
      "cell_type": "markdown",
      "source": [
        "## **Face Detection**"
      ],
      "metadata": {
        "id": "GDkIbT2hEQPw"
      }
    },
    {
      "cell_type": "code",
      "source": [
        "!python {SCRIPTS_DIR}/detect_faces.py \\\n",
        "  --frames_root {FRAMES_ROOT} \\\n",
        "  --faces_root {FACES_ROOT}"
      ],
      "metadata": {
        "colab": {
          "base_uri": "https://localhost:8080/"
        },
        "id": "RroxsnYk5ND_",
        "outputId": "467ff2d1-c3d5-4161-92ec-b87d9f68aef1"
      },
      "execution_count": null,
      "outputs": [
        {
          "output_type": "stream",
          "name": "stdout",
          "text": [
            "FOUND 35246 FRAMES FOR FACE DETECTION.\n",
            "USING 1 CPU CORES FOR FACE DETECTION.\n",
            "\n",
            "DETECTING FACES: 100% 35246/35246 [1:05:42<00:00,  8.94it/s]\n",
            "\n",
            "FACE DETECTION & CROPPING COMPLETED.\n"
          ]
        }
      ]
    },
    {
      "cell_type": "markdown",
      "source": [
        "## **Dataset Organization**"
      ],
      "metadata": {
        "id": "mX-mwXPb4x8M"
      }
    },
    {
      "cell_type": "code",
      "source": [
        "!python {SCRIPTS_DIR}/organize_dataset.py \\\n",
        "  --faces_root {FACES_ROOT} \\\n",
        "  --output_root /content/DF-SCAN/sample-data/processed/final_dataset \\\n",
        "  --train_ratio 0.7 \\\n",
        "  --val_ratio 0.15 \\\n",
        "  --test_ratio 0.15"
      ],
      "metadata": {
        "colab": {
          "base_uri": "https://localhost:8080/"
        },
        "id": "xGFByoLaScCV",
        "outputId": "540b517f-b8fc-46f5-de54-acaab242f9b3"
      },
      "execution_count": null,
      "outputs": [
        {
          "output_type": "stream",
          "name": "stdout",
          "text": [
            "\n",
            "FOUND 11758 real FACE IMAGES.\n",
            "                                                              \n",
            "FOUND 36951 fake FACE IMAGES.\n",
            "                                                              \n",
            "DATASET ORGANIZED SUCCESSFULLY.\n"
          ]
        }
      ]
    },
    {
      "cell_type": "code",
      "source": [
        "!python {SCRIPTS_DIR}/reconstruct_videos.py \\\n",
        "  --faces_root {FACES_ROOT} \\\n",
        "  --output_root /content/DF-SCAN/sample-data/processed/reconstructed_videos \\\n",
        "  --fps 25\n"
      ],
      "metadata": {
        "colab": {
          "base_uri": "https://localhost:8080/"
        },
        "id": "sI6sucCtSoA1",
        "outputId": "94fffc3d-de35-40cb-b457-d9827170e2fb"
      },
      "execution_count": null,
      "outputs": [
        {
          "output_type": "stream",
          "name": "stdout",
          "text": [
            "Reconstructing real: 100% 100/100 [00:10<00:00,  9.15it/s]\n",
            "Reconstructing fake: 100% 200/200 [00:35<00:00,  5.63it/s]\n"
          ]
        }
      ]
    }
  ]
}